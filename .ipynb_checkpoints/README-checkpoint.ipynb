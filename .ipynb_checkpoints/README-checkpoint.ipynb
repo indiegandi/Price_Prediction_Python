{
 "cells": [
  {
   "cell_type": "markdown",
   "id": "186a42fc",
   "metadata": {},
   "source": [
    "## California Housing Prices Prediction \n",
    "\n",
    "This project aims to build a machine learning model that predicts the median housing price for each block group in California.\n",
    "\n",
    "#### Dataset\n",
    "\n",
    "kaggle datasets download -d camnugent/california-housing-prices\n",
    "\n",
    "The dataset used in this project is available in the file housing.csv.  It contains the following columns:\n",
    "\n",
    "longitude: longitude of the block group\n",
    "latitude: latitude of the block group\n",
    "housing_median_age: median age of the houses in the block group\n",
    "total_rooms: total number of rooms in the block group\n",
    "total_bedrooms: total number of bedrooms in the block group\n",
    "population: total population in the block group\n",
    "households: total number of households in the block group\n",
    "median_income: median income of the block group\n",
    "median_house_value: median house value in the block group\n",
    "ocean_proximity: proximity of the block group to the ocean\n",
    "Installation\n",
    "Clone the repository: git clone https://github.com/your-username/california-housing-prices.git\n",
    "Navigate to the project directory: cd california-housing-prices\n",
    "Install the required packages: pip install -r requirements.txt\n",
    "Run the Jupyter notebook: jupyter notebook\n",
    "### Exploratory Data Analysis\n",
    "In the Jupyter notebook, california_housing.ipynb, we perform exploratory data analysis on the dataset. This includes:\n",
    "\n",
    "Checking for missing values\n",
    "Visualizing the distribution of each feature\n",
    "Visualizing the correlation between features and the target variable\n",
    "Visualizing the geographical distribution of the block groups\n",
    "Data Preprocessing\n",
    "After performing exploratory data analysis, we preprocess the data to prepare it for machine learning. This includes:\n",
    "\n",
    "Dropping missing values\n",
    "Removing the ocean_proximity feature, as it is a categorical variable\n",
    "Log-transforming the numerical features to reduce the impact of outliers\n",
    "Splitting the data into training and testing sets\n",
    "### Models\n",
    "#### We train and evaluate the performance of the following machine learning models:\n",
    "\n",
    "##### Linear Regression\n",
    "##### Random Forest Regressor\n",
    "##### Gradient Boosting Regressor\n",
    "##### XGBoost Regressor\n",
    "\n",
    "I also use GridSearchCV to find the best hyperparameters for the Random Forest Regressor model.\n",
    "\n",
    "##### Conclusion\n",
    "Random Forest Regressor model with the best hyperparameters has the highest accuracy, with an R2 score of 86%.\n",
    "\n",
    "##### Credits \n",
    "-- will be updated"
   ]
  },
  {
   "cell_type": "code",
   "execution_count": null,
   "id": "6a6f6f30",
   "metadata": {},
   "outputs": [],
   "source": []
  }
 ],
 "metadata": {
  "kernelspec": {
   "display_name": "Python 3 (ipykernel)",
   "language": "python",
   "name": "python3"
  },
  "language_info": {
   "codemirror_mode": {
    "name": "ipython",
    "version": 3
   },
   "file_extension": ".py",
   "mimetype": "text/x-python",
   "name": "python",
   "nbconvert_exporter": "python",
   "pygments_lexer": "ipython3",
   "version": "3.9.13"
  }
 },
 "nbformat": 4,
 "nbformat_minor": 5
}
